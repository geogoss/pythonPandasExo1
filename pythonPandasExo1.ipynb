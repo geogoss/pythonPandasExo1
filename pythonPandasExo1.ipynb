{
 "cells": [
  {
   "cell_type": "code",
   "execution_count": 74,
   "id": "3a1b4ce8-6ac1-494d-81ec-052f1b0201c0",
   "metadata": {},
   "outputs": [],
   "source": [
    "import numpy as np\n",
    "import matplotlib.pyplot as plt\n",
    "import pandas as pd"
   ]
  },
  {
   "cell_type": "code",
   "execution_count": 75,
   "id": "61af1455-fda4-4b3d-97c4-ee3eaeadf21c",
   "metadata": {},
   "outputs": [],
   "source": [
    "data = pd.read_excel('titanic3.xls')"
   ]
  },
  {
   "cell_type": "code",
   "execution_count": 76,
   "id": "3be7a399-f989-4382-a930-f5d7df018b8a",
   "metadata": {},
   "outputs": [],
   "source": [
    "data20 = data['age'] < 20 "
   ]
  },
  {
   "cell_type": "code",
   "execution_count": 77,
   "id": "21388838-ddb0-4ed3-8cc5-af16d4ecda0b",
   "metadata": {},
   "outputs": [
    {
     "data": {
      "text/plain": [
       "0       False\n",
       "1        True\n",
       "2        True\n",
       "3       False\n",
       "4       False\n",
       "        ...  \n",
       "1304     True\n",
       "1305    False\n",
       "1306    False\n",
       "1307    False\n",
       "1308    False\n",
       "Name: age, Length: 1309, dtype: bool"
      ]
     },
     "execution_count": 77,
     "metadata": {},
     "output_type": "execute_result"
    }
   ],
   "source": [
    "data20"
   ]
  },
  {
   "cell_type": "code",
   "execution_count": 78,
   "id": "3a471603-2e5b-42b1-93ac-c75839f88ee3",
   "metadata": {},
   "outputs": [],
   "source": [
    "data30 =(data['age'] > 20) & (data['age'] < 30) "
   ]
  },
  {
   "cell_type": "code",
   "execution_count": 79,
   "id": "356365de-2488-4c71-a48c-03854abb0d03",
   "metadata": {},
   "outputs": [
    {
     "data": {
      "text/plain": [
       "0        True\n",
       "1       False\n",
       "2       False\n",
       "3       False\n",
       "4        True\n",
       "        ...  \n",
       "1304    False\n",
       "1305    False\n",
       "1306     True\n",
       "1307     True\n",
       "1308     True\n",
       "Name: age, Length: 1309, dtype: bool"
      ]
     },
     "execution_count": 79,
     "metadata": {},
     "output_type": "execute_result"
    }
   ],
   "source": [
    "data30"
   ]
  },
  {
   "cell_type": "code",
   "execution_count": 80,
   "id": "db49ddcf-2506-4edd-87e3-bff1567fbeb3",
   "metadata": {},
   "outputs": [],
   "source": [
    "data40 =(data['age'] > 30) & (data['age'] < 40) "
   ]
  },
  {
   "cell_type": "code",
   "execution_count": 81,
   "id": "f37c023b-f36b-4073-a13d-d8cd9b055e3c",
   "metadata": {},
   "outputs": [
    {
     "data": {
      "text/plain": [
       "0       False\n",
       "1       False\n",
       "2       False\n",
       "3       False\n",
       "4       False\n",
       "        ...  \n",
       "1304    False\n",
       "1305    False\n",
       "1306    False\n",
       "1307    False\n",
       "1308    False\n",
       "Name: age, Length: 1309, dtype: bool"
      ]
     },
     "execution_count": 81,
     "metadata": {},
     "output_type": "execute_result"
    }
   ],
   "source": [
    "data40"
   ]
  },
  {
   "cell_type": "code",
   "execution_count": 82,
   "id": "549e97fe-e4c8-4bf5-b8cb-54ad1f8efe7a",
   "metadata": {},
   "outputs": [],
   "source": [
    "dataPlus40 =data['age'] > 40 "
   ]
  },
  {
   "cell_type": "code",
   "execution_count": 83,
   "id": "782f1165-16ca-4fd8-8491-c8e93235c735",
   "metadata": {},
   "outputs": [
    {
     "data": {
      "text/plain": [
       "0       False\n",
       "1       False\n",
       "2       False\n",
       "3       False\n",
       "4       False\n",
       "        ...  \n",
       "1304    False\n",
       "1305    False\n",
       "1306    False\n",
       "1307    False\n",
       "1308    False\n",
       "Name: age, Length: 1309, dtype: bool"
      ]
     },
     "execution_count": 83,
     "metadata": {},
     "output_type": "execute_result"
    }
   ],
   "source": [
    "dataPlus40"
   ]
  },
  {
   "cell_type": "code",
   "execution_count": 84,
   "id": "43e372f0-14f1-4266-9f01-93b7903423b1",
   "metadata": {},
   "outputs": [
    {
     "data": {
      "text/html": [
       "<div>\n",
       "<style scoped>\n",
       "    .dataframe tbody tr th:only-of-type {\n",
       "        vertical-align: middle;\n",
       "    }\n",
       "\n",
       "    .dataframe tbody tr th {\n",
       "        vertical-align: top;\n",
       "    }\n",
       "\n",
       "    .dataframe thead th {\n",
       "        text-align: right;\n",
       "    }\n",
       "</style>\n",
       "<table border=\"1\" class=\"dataframe\">\n",
       "  <thead>\n",
       "    <tr style=\"text-align: right;\">\n",
       "      <th></th>\n",
       "      <th>pclass</th>\n",
       "      <th>survived</th>\n",
       "      <th>sex</th>\n",
       "      <th>age</th>\n",
       "    </tr>\n",
       "  </thead>\n",
       "  <tbody>\n",
       "    <tr>\n",
       "      <th>0</th>\n",
       "      <td>1</td>\n",
       "      <td>1</td>\n",
       "      <td>female</td>\n",
       "      <td>29.0000</td>\n",
       "    </tr>\n",
       "    <tr>\n",
       "      <th>1</th>\n",
       "      <td>1</td>\n",
       "      <td>1</td>\n",
       "      <td>male</td>\n",
       "      <td>0.9167</td>\n",
       "    </tr>\n",
       "    <tr>\n",
       "      <th>2</th>\n",
       "      <td>1</td>\n",
       "      <td>0</td>\n",
       "      <td>female</td>\n",
       "      <td>2.0000</td>\n",
       "    </tr>\n",
       "    <tr>\n",
       "      <th>3</th>\n",
       "      <td>1</td>\n",
       "      <td>0</td>\n",
       "      <td>male</td>\n",
       "      <td>30.0000</td>\n",
       "    </tr>\n",
       "    <tr>\n",
       "      <th>4</th>\n",
       "      <td>1</td>\n",
       "      <td>0</td>\n",
       "      <td>female</td>\n",
       "      <td>25.0000</td>\n",
       "    </tr>\n",
       "  </tbody>\n",
       "</table>\n",
       "</div>"
      ],
      "text/plain": [
       "   pclass  survived     sex      age\n",
       "0       1         1  female  29.0000\n",
       "1       1         1    male   0.9167\n",
       "2       1         0  female   2.0000\n",
       "3       1         0    male  30.0000\n",
       "4       1         0  female  25.0000"
      ]
     },
     "execution_count": 84,
     "metadata": {},
     "output_type": "execute_result"
    }
   ],
   "source": [
    "# En procédant comme cela nous avons 4 data set différents -> il aurait fallu utilisé la fonction loc pour faire du booléen indexing\n",
    "dataBis = data.drop(['name', 'sibsp', 'parch', 'ticket', 'fare', 'cabin', 'embarked', 'boat', 'body', 'home.dest'], axis=1)\n",
    "data = data.drop(['name', 'sibsp', 'parch', 'ticket', 'fare', 'cabin', 'embarked', 'boat', 'body', 'home.dest'], axis=1)\n",
    "data.head()"
   ]
  },
  {
   "cell_type": "code",
   "execution_count": 85,
   "id": "798c9c3a-d154-4b60-9fa0-d5b4598d2b9b",
   "metadata": {},
   "outputs": [],
   "source": [
    "data.loc[data['age'] <= 20, 'age'] = 0\n",
    "data.loc[(data['age'] > 20) & (data['age'] <= 30), 'age'] = 1\n",
    "data.loc[(data['age'] > 30) & (data['age'] <= 40), 'age'] = 2\n",
    "data.loc[data['age'] > 40, 'age'] = 3"
   ]
  },
  {
   "cell_type": "code",
   "execution_count": 86,
   "id": "3c8ebc4a-bc1f-41f1-b873-cfb36154301f",
   "metadata": {},
   "outputs": [
    {
     "data": {
      "text/html": [
       "<div>\n",
       "<style scoped>\n",
       "    .dataframe tbody tr th:only-of-type {\n",
       "        vertical-align: middle;\n",
       "    }\n",
       "\n",
       "    .dataframe tbody tr th {\n",
       "        vertical-align: top;\n",
       "    }\n",
       "\n",
       "    .dataframe thead th {\n",
       "        text-align: right;\n",
       "    }\n",
       "</style>\n",
       "<table border=\"1\" class=\"dataframe\">\n",
       "  <thead>\n",
       "    <tr style=\"text-align: right;\">\n",
       "      <th></th>\n",
       "      <th>pclass</th>\n",
       "      <th>survived</th>\n",
       "      <th>sex</th>\n",
       "      <th>age</th>\n",
       "    </tr>\n",
       "  </thead>\n",
       "  <tbody>\n",
       "    <tr>\n",
       "      <th>0</th>\n",
       "      <td>1</td>\n",
       "      <td>1</td>\n",
       "      <td>female</td>\n",
       "      <td>1.0</td>\n",
       "    </tr>\n",
       "    <tr>\n",
       "      <th>1</th>\n",
       "      <td>1</td>\n",
       "      <td>1</td>\n",
       "      <td>male</td>\n",
       "      <td>0.0</td>\n",
       "    </tr>\n",
       "    <tr>\n",
       "      <th>2</th>\n",
       "      <td>1</td>\n",
       "      <td>0</td>\n",
       "      <td>female</td>\n",
       "      <td>0.0</td>\n",
       "    </tr>\n",
       "    <tr>\n",
       "      <th>3</th>\n",
       "      <td>1</td>\n",
       "      <td>0</td>\n",
       "      <td>male</td>\n",
       "      <td>1.0</td>\n",
       "    </tr>\n",
       "    <tr>\n",
       "      <th>4</th>\n",
       "      <td>1</td>\n",
       "      <td>0</td>\n",
       "      <td>female</td>\n",
       "      <td>1.0</td>\n",
       "    </tr>\n",
       "  </tbody>\n",
       "</table>\n",
       "</div>"
      ],
      "text/plain": [
       "   pclass  survived     sex  age\n",
       "0       1         1  female  1.0\n",
       "1       1         1    male  0.0\n",
       "2       1         0  female  0.0\n",
       "3       1         0    male  1.0\n",
       "4       1         0  female  1.0"
      ]
     },
     "execution_count": 86,
     "metadata": {},
     "output_type": "execute_result"
    }
   ],
   "source": [
    "data.head()"
   ]
  },
  {
   "cell_type": "code",
   "execution_count": 87,
   "id": "92403da8-70ad-4588-b347-0b52abef5974",
   "metadata": {},
   "outputs": [
    {
     "data": {
      "text/plain": [
       "1.0    361\n",
       "0.0    248\n",
       "3.0    227\n",
       "2.0    210\n",
       "Name: age, dtype: int64"
      ]
     },
     "execution_count": 87,
     "metadata": {},
     "output_type": "execute_result"
    }
   ],
   "source": [
    "data['age'].value_counts()"
   ]
  },
  {
   "cell_type": "code",
   "execution_count": 93,
   "id": "df2603fa-c2ac-48f8-ae59-d61f77073f97",
   "metadata": {},
   "outputs": [
    {
     "data": {
      "text/html": [
       "<div>\n",
       "<style scoped>\n",
       "    .dataframe tbody tr th:only-of-type {\n",
       "        vertical-align: middle;\n",
       "    }\n",
       "\n",
       "    .dataframe tbody tr th {\n",
       "        vertical-align: top;\n",
       "    }\n",
       "\n",
       "    .dataframe thead th {\n",
       "        text-align: right;\n",
       "    }\n",
       "</style>\n",
       "<table border=\"1\" class=\"dataframe\">\n",
       "  <thead>\n",
       "    <tr style=\"text-align: right;\">\n",
       "      <th></th>\n",
       "      <th>pclass</th>\n",
       "      <th>survived</th>\n",
       "    </tr>\n",
       "    <tr>\n",
       "      <th>age</th>\n",
       "      <th></th>\n",
       "      <th></th>\n",
       "    </tr>\n",
       "  </thead>\n",
       "  <tbody>\n",
       "    <tr>\n",
       "      <th>0.0</th>\n",
       "      <td>2.568548</td>\n",
       "      <td>0.459677</td>\n",
       "    </tr>\n",
       "    <tr>\n",
       "      <th>1.0</th>\n",
       "      <td>2.371191</td>\n",
       "      <td>0.371191</td>\n",
       "    </tr>\n",
       "    <tr>\n",
       "      <th>2.0</th>\n",
       "      <td>2.109524</td>\n",
       "      <td>0.423810</td>\n",
       "    </tr>\n",
       "    <tr>\n",
       "      <th>3.0</th>\n",
       "      <td>1.643172</td>\n",
       "      <td>0.396476</td>\n",
       "    </tr>\n",
       "  </tbody>\n",
       "</table>\n",
       "</div>"
      ],
      "text/plain": [
       "       pclass  survived\n",
       "age                    \n",
       "0.0  2.568548  0.459677\n",
       "1.0  2.371191  0.371191\n",
       "2.0  2.109524  0.423810\n",
       "3.0  1.643172  0.396476"
      ]
     },
     "execution_count": 93,
     "metadata": {},
     "output_type": "execute_result"
    }
   ],
   "source": [
    "data.groupby(['age']).mean()"
   ]
  },
  {
   "cell_type": "code",
   "execution_count": 94,
   "id": "422ce402-74ef-4d7e-9f53-494b4a2daf87",
   "metadata": {},
   "outputs": [],
   "source": [
    "# Autre façon de répondre en utilisant map qui est très puissant avec pandas"
   ]
  },
  {
   "cell_type": "code",
   "execution_count": 95,
   "id": "5afe0be7-9f60-41e7-8171-c639f2fe98ba",
   "metadata": {},
   "outputs": [],
   "source": [
    "# il faut définir une fonction catégorie age"
   ]
  },
  {
   "cell_type": "code",
   "execution_count": 96,
   "id": "16237a26-749d-4f1b-a821-7acd84a8e121",
   "metadata": {},
   "outputs": [],
   "source": [
    "def category_age(age):\n",
    "    if age <= 20:\n",
    "        return '<20 ans'\n",
    "    elif (age > 20) & (age <=30):\n",
    "        return '20-30 ans'\n",
    "    elif (age > 30) & (age <= 40):\n",
    "        return '30-40 ans'\n",
    "    else:\n",
    "        return '+40 ans'\n",
    "    "
   ]
  },
  {
   "cell_type": "code",
   "execution_count": 97,
   "id": "a72a625e-e5af-474c-9fe1-942db34b9874",
   "metadata": {},
   "outputs": [
    {
     "data": {
      "text/plain": [
       "0       20-30 ans\n",
       "1         <20 ans\n",
       "2         <20 ans\n",
       "3       20-30 ans\n",
       "4       20-30 ans\n",
       "          ...    \n",
       "1304      <20 ans\n",
       "1305      +40 ans\n",
       "1306    20-30 ans\n",
       "1307    20-30 ans\n",
       "1308    20-30 ans\n",
       "Name: age, Length: 1309, dtype: object"
      ]
     },
     "execution_count": 97,
     "metadata": {},
     "output_type": "execute_result"
    }
   ],
   "source": [
    "dataBis['age'].map(category_age)"
   ]
  },
  {
   "cell_type": "code",
   "execution_count": null,
   "id": "6d05b75a-5070-4e06-8a11-697ddb3792a5",
   "metadata": {},
   "outputs": [],
   "source": []
  },
  {
   "cell_type": "code",
   "execution_count": null,
   "id": "f0b78382-76b7-4a67-bb1e-bb5294aa693a",
   "metadata": {},
   "outputs": [],
   "source": []
  }
 ],
 "metadata": {
  "kernelspec": {
   "display_name": "Python 3 (ipykernel)",
   "language": "python",
   "name": "python3"
  },
  "language_info": {
   "codemirror_mode": {
    "name": "ipython",
    "version": 3
   },
   "file_extension": ".py",
   "mimetype": "text/x-python",
   "name": "python",
   "nbconvert_exporter": "python",
   "pygments_lexer": "ipython3",
   "version": "3.9.7"
  }
 },
 "nbformat": 4,
 "nbformat_minor": 5
}
